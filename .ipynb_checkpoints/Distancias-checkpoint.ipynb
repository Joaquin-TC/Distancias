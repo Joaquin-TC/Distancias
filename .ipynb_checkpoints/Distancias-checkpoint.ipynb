{
 "cells": [
  {
   "cell_type": "code",
   "execution_count": 10,
   "id": "2dac9b2c",
   "metadata": {},
   "outputs": [
    {
     "data": {
      "text/plain": [
       "['ucrania', 'regiones', 'ciudades', 'capitales', 'hidrografia']"
      ]
     },
     "execution_count": 10,
     "metadata": {},
     "output_type": "execute_result"
    }
   ],
   "source": [
    "ukraineMapsLink=\"https://github.com/Joaquin-TC/geodfprepro/raw/main/maps%20and%20data/UcraniaMapa.gpkg\"\n",
    "\n",
    "from  fiona import listlayers\n",
    "\n",
    "\n",
    "#layers in maps\n",
    "listlayers(ukraineMapsLink)"
   ]
  },
  {
   "cell_type": "code",
   "execution_count": 13,
   "id": "d3a9d091",
   "metadata": {},
   "outputs": [],
   "source": [
    "# reading in the data:\n",
    "\n",
    "import os\n",
    "os.environ['USE_PYGEOS'] = '0'\n",
    "\n",
    "import geopandas as gpd\n",
    "\n",
    "ucrania=gpd.read_file(ukraineMapsLink,layer='ucrania')\n",
    "regiones=gpd.read_file(ukraineMapsLink,layer='regiones')\n",
    "ciudades=gpd.read_file(ukraineMapsLink,layer='ciudades')\n",
    "capitales=gpd.read_file(ukraineMapsLink,layer='capitales')\n",
    "hidrografia=gpd.read_file(ukraineMapsLink,layer='hidrografia')"
   ]
  },
  {
   "cell_type": "code",
   "execution_count": null,
   "id": "8efcc7dc",
   "metadata": {},
   "outputs": [],
   "source": []
  },
  {
   "cell_type": "code",
   "execution_count": null,
   "id": "1f3e74eb",
   "metadata": {},
   "outputs": [],
   "source": []
  },
  {
   "cell_type": "code",
   "execution_count": null,
   "id": "68cd4967",
   "metadata": {},
   "outputs": [],
   "source": []
  },
  {
   "cell_type": "code",
   "execution_count": null,
   "id": "fda60e96",
   "metadata": {},
   "outputs": [],
   "source": []
  },
  {
   "cell_type": "code",
   "execution_count": null,
   "id": "50e9503b",
   "metadata": {},
   "outputs": [],
   "source": []
  }
 ],
 "metadata": {
  "kernelspec": {
   "display_name": "Python 3 (ipykernel)",
   "language": "python",
   "name": "python3"
  },
  "language_info": {
   "codemirror_mode": {
    "name": "ipython",
    "version": 3
   },
   "file_extension": ".py",
   "mimetype": "text/x-python",
   "name": "python",
   "nbconvert_exporter": "python",
   "pygments_lexer": "ipython3",
   "version": "3.10.10"
  }
 },
 "nbformat": 4,
 "nbformat_minor": 5
}
